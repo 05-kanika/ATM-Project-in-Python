{
 "cells": [
  {
   "cell_type": "code",
   "execution_count": 1,
   "id": "c94e4540",
   "metadata": {},
   "outputs": [],
   "source": [
    "import random"
   ]
  },
  {
   "cell_type": "markdown",
   "id": "b11c259c",
   "metadata": {},
   "source": [
    " This module implements pseudo-random number generators for various distributions.\n",
    "\n",
    "For integers, there is uniform selection from a range. For sequences, there is uniform selection of a random element, a function to generate a random permutation of a list in-place, and a function for random sampling without replacement.\n",
    "\n",
    "On the real line, there are functions to compute uniform, normal (Gaussian), lognormal, negative exponential, gamma, and beta distributions. For generating distributions of angles, the von Mises distribution is available.\n",
    "\n",
    "Almost all module functions depend on the basic function random(), which generates a random float uniformly in the semi-open range [0.0, 1.0). "
   ]
  },
  {
   "cell_type": "code",
   "execution_count": 2,
   "id": "4526b6ea",
   "metadata": {},
   "outputs": [],
   "source": [
    "import sys"
   ]
  },
  {
   "cell_type": "markdown",
   "id": "82281549",
   "metadata": {},
   "source": [
    "This module provides access to some variables used or maintained by the interpreter and to functions that interact strongly \n",
    "with the interpreter. It is always available.\n",
    "sys.abiflags\n",
    "On POSIX systems where Python was built with the standard configure script, this contains the ABI flags as specified by PEP 3149."
   ]
  },
  {
   "cell_type": "code",
   "execution_count": 3,
   "id": "817182d9",
   "metadata": {},
   "outputs": [],
   "source": [
    "class ATM():\n",
    "    def __init__(self, name, pin, balance = 500000):\n",
    "        self.name = name\n",
    "        self.pin = pin\n",
    "        self.balance = balance"
   ]
  },
  {
   "cell_type": "markdown",
   "id": "159c0ee5",
   "metadata": {},
   "source": [
    " The ATM System is the project which is used to access their bank accounts in order to make cash withdrawals. \n",
    "Whenever the user need to make cash withdraws, they can enter their PIN number (personal identification number)\n",
    "and it will display the amount to be withdrawn in the form of 100’s 500’s and 1000’s. \n",
    "Once their withdrawn was successful, the amount will be debited in their account."
   ]
  },
  {
   "cell_type": "code",
   "execution_count": 4,
   "id": "4c9b5e0e",
   "metadata": {},
   "outputs": [],
   "source": [
    "def fund_transfer(self,account_number_transfer,fund_transfer_amt):\n",
    "        self.account_number_transfer=account_number_transfer\n",
    "        self.fund_transfer_amt=fund_transfer_amt\n",
    "        if self.fund_transfer_amt>self.balance:\n",
    "            print(\"sorry we can't tranfer the amount\")\n",
    "            print(f\"Your balance is Nu.{self.balance} only.\")\n",
    "            print()\n",
    "        else:\n",
    "            print(\"fund transfered successfully\")\n",
    "            self.balance = self.balance - self.fund_transfer_amt\n",
    "            print(f\"Nu.{fund_transfer_amt} transfer successful!\")\n",
    "            print(\"Current account balance: Nu.\", self.balance)\n",
    "            print()"
   ]
  },
  {
   "cell_type": "markdown",
   "id": "5ea4821a",
   "metadata": {},
   "source": [
    "ATM money transfers can be quick and easy. Other than that, there are several other benefits of ATM money transfer such as:\n",
    "\n",
    "You can do the fund transfer 24×7 without going to the bank or waiting for the banks to open. There is no need to worry if the bank’s working time is over or if it is a bank’s holiday You need not visit a specific bank’s branch as any nearest ATM serves the purpose. It reduces your dependency on the bank officials as well as their burden for every little transaction that the customer performs"
   ]
  },
  {
   "cell_type": "code",
   "execution_count": 5,
   "id": "d1d876e5",
   "metadata": {},
   "outputs": [],
   "source": [
    " def account_detail(self):\n",
    "        print(\"\\n----------ACCOUNT DETAIL----------\")\n",
    "        print(f\"Account Holder: {self.name.upper()}\")\n",
    "        print(f\"Account Number: {self.pin}\")\n",
    "        print(f\"Available balance: Nu.{self.balance}\\n\")\n"
   ]
  },
  {
   "cell_type": "code",
   "execution_count": 6,
   "id": "0d85dfa9",
   "metadata": {},
   "outputs": [],
   "source": [
    "   def deposit(self, amount):\n",
    "        self.amount = amount\n",
    "        self.balance = self.balance + self.amount\n",
    "        print(\"Current account balance: Nu.\", self.balance)\n",
    "        print()"
   ]
  },
  {
   "cell_type": "markdown",
   "id": "d4dfe7ad",
   "metadata": {},
   "source": [
    "Cash Deposit: ON PRESSING 3\n",
    "It mainly used for deposit cash amount to their bank account as percustomer demand. It is easy process of deposit amount to \n",
    "their bank accountswithout filling deposit sleep."
   ]
  },
  {
   "cell_type": "code",
   "execution_count": 7,
   "id": "63e0c92e",
   "metadata": {},
   "outputs": [],
   "source": [
    " def withdraw(self, amount):\n",
    "        self.amount = amount\n",
    "        if self.amount > self.balance:\n",
    "            print(\"Insufficient fund!\")\n",
    "            print(f\"Your balance is Nu.{self.balance} only.\")\n",
    "            print(\"Try with lesser amount than balance.\")\n",
    "            print()\n",
    "        else:\n",
    "            self.balance = self.balance - self.amount\n",
    "            print(f\"Nu.{amount} withdrawal successful!\")\n",
    "            print(\"Current account balance: Nu.\", self.balance)\n",
    "            print()"
   ]
  },
  {
   "cell_type": "markdown",
   "id": "f0d50587",
   "metadata": {},
   "source": [
    "Cash Withdrawal:\n",
    "It mainly used for withdrawal of cash as per customer demand.For any authorized ATM card holder the ATM system requests for\n",
    "its ATM no &PIN no then customer to login in their accounts, then amounts are given to systemand customer can withdraw amount."
   ]
  },
  {
   "cell_type": "code",
   "execution_count": 8,
   "id": "da715142",
   "metadata": {},
   "outputs": [],
   "source": [
    " def check_balance(self):\n",
    "        print(\"Available balance: Nu.\", self.balance)\n",
    "        print()"
   ]
  },
  {
   "cell_type": "markdown",
   "id": "917548b2",
   "metadata": {},
   "source": [
    "Pressing 2 takes us to the “View Account Balance” option, where, after we’ve entered the correct PIN for our bank account, we are able to see how much money is in our bank account."
   ]
  },
  {
   "cell_type": "code",
   "execution_count": 9,
   "id": "6c052259",
   "metadata": {},
   "outputs": [
    {
     "name": "stdout",
     "output_type": "stream",
     "text": [
      "___________________________________________________________\n",
      "\n",
      "----------ACCOUNT CREATION----------\n",
      "Enter your name: ABC\n",
      "Enter your pin: 2009\n",
      "re enter your pin2009\n",
      "Do you want to do any transaction?(y/n):n\n",
      "\n",
      "   -------------------------------------\n",
      "  | Thanks for choosing us as your bank |\n",
      "  | Visit us again!                     |\n",
      "   -------------------------------------\n",
      "       \n"
     ]
    }
   ],
   "source": [
    " def transaction(self):  # for transaction \n",
    "        print(\"\"\"\n",
    "            TRANSACTION \n",
    "        *********************\n",
    "            Menu:\n",
    "            1. Account Detail\n",
    "            2. Check Balance\n",
    "            3. Deposit\n",
    "            4. Withdraw\n",
    "            5. fund transfer\n",
    "            6.exit\n",
    "        *********************\n",
    "        \"\"\")\n",
    "        \n",
    "        while True:\n",
    "            try:\n",
    "                option = int(input(\"Enter 1, 2, 3, 4 ,5 or 6:\"))\n",
    "            except:\n",
    "                print(\"Error: Enter 1, 2, 3, 4,5 or 6 only!\\n\")\n",
    "                continue\n",
    "            else:\n",
    "                if option == 1:\n",
    "                    atm.account_detail()\n",
    "                elif option == 2:\n",
    "                    atm.check_balance()\n",
    "                elif option == 3:\n",
    "                    amount = int(input(\"How much you want to deposit(Nu.):\"))\n",
    "                    atm.deposit(amount)\n",
    "                elif option == 4:\n",
    "                    amount = int(input(\"How much you want to withdraw(Nu.):\"))\n",
    "                    atm.withdraw(amount)\n",
    "                elif option == 5:\n",
    "                    account_number_transfer = int(input(\"enter the account number of benificery\"))\n",
    "                    fund_transfer_amt=int(input(\"enter the amount you want to transfer\"))\n",
    "\n",
    "                    atm.fund_transfer(account_number_transfer,fund_transfer_amt)    \n",
    "                elif option == 6:\n",
    "                    print(f\"\"\"\n",
    "                printing receipt..............\n",
    "          ******************************************\n",
    "              Transaction is now complete.                         \n",
    "              Transaction number: {random.randint(10000, 1000000)} \n",
    "              Account holder: {self.name.upper()}                  \n",
    "              pin: {self.pin}                \n",
    "              Available balance: Nu.{self.balance}                    \n",
    " \n",
    "              Thanks for choosing us as your bank                  \n",
    "          ******************************************\n",
    "          \"\"\")\n",
    "                    sys.exit()\n",
    "            print(\"*******SK GROUP OF BANKS*******\")\n",
    "print(\"___________________________________________________________\\n\")\n",
    "print(\"----------ACCOUNT CREATION----------\")\n",
    "name = input(\"Enter your name: \")\n",
    "pin = int(input(\"Enter your pin: \"))\n",
    "pin1=int(input(\"re enter your pin\"))\n",
    "if pin==pin1:\n",
    "    atm = ATM(name,pin,balance=500000)\n",
    " \n",
    "    while Truea\n",
    "        trans = input(\"Do you want to do any transaction?(y/n):\")\n",
    "        if trans == \"y\":\n",
    "            atm.transaction()\n",
    "        elif trans == \"n\":\n",
    "            print(\"\"\"\n",
    "    -------------------------------------\n",
    "   | Thanks for choosing us as your bank |\n",
    "   | Visit us again!                     |\n",
    "    -------------------------------------\n",
    "        \"\"\")\n",
    "            break\n",
    "        else:\n",
    "            print(\"Wrong command!  Enter 'y' for yes and 'n' for NO.\\n\")\n",
    "            \n",
    "    "
   ]
  }
 ],
 "metadata": {
  "kernelspec": {
   "display_name": "Python 3 (ipykernel)",
   "language": "python",
   "name": "python3"
  },
  "language_info": {
   "codemirror_mode": {
    "name": "ipython",
    "version": 3
   },
   "file_extension": ".py",
   "mimetype": "text/x-python",
   "name": "python",
   "nbconvert_exporter": "python",
   "pygments_lexer": "ipython3",
   "version": "3.10.7"
  }
 },
 "nbformat": 4,
 "nbformat_minor": 5
}
